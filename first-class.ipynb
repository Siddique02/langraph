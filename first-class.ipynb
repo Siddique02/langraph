{
  "nbformat": 4,
  "nbformat_minor": 0,
  "metadata": {
    "colab": {
      "provenance": [],
      "authorship_tag": "ABX9TyPWT7u3yiDgL4fnlmdbnzug",
      "include_colab_link": true
    },
    "kernelspec": {
      "name": "python3",
      "display_name": "Python 3"
    },
    "language_info": {
      "name": "python"
    }
  },
  "cells": [
    {
      "cell_type": "markdown",
      "metadata": {
        "id": "view-in-github",
        "colab_type": "text"
      },
      "source": [
        "<a href=\"https://colab.research.google.com/github/Siddique02/langraph/blob/main/first-class.ipynb\" target=\"_parent\"><img src=\"https://colab.research.google.com/assets/colab-badge.svg\" alt=\"Open In Colab\"/></a>"
      ]
    },
    {
      "cell_type": "code",
      "execution_count": null,
      "metadata": {
        "id": "RHeszaJ7ai3_"
      },
      "outputs": [],
      "source": [
        "!pip install -q langchain_google_genai langchain_core langchain_community tavily_python"
      ]
    },
    {
      "cell_type": "code",
      "source": [
        "from google.colab import userdata\n",
        "from langchain_google_genai import ChatGoogleGenerativeAI\n",
        "\n",
        "GEMINI_API_KEY=userdata.get('GEMINI_API_KEY')\n",
        "llm = ChatGoogleGenerativeAI(\n",
        "    model='gemini-1.5-flash',\n",
        "    api_key=GEMINI_API_KEY,\n",
        "    temperature=0,\n",
        ")"
      ],
      "metadata": {
        "id": "YTmuhNHgbg3a"
      },
      "execution_count": 20,
      "outputs": []
    },
    {
      "cell_type": "code",
      "source": [
        "result = llm.invoke(\"Today's date?\")\n",
        "result"
      ],
      "metadata": {
        "colab": {
          "base_uri": "https://localhost:8080/"
        },
        "id": "8vV-kvXigBkE",
        "outputId": "acb1bbb4-26b3-4f38-e197-fafbea61b703"
      },
      "execution_count": 31,
      "outputs": [
        {
          "output_type": "execute_result",
          "data": {
            "text/plain": [
              "AIMessage(content='I cannot provide you with the names of women who have recently moved to Karachi to marry.  This information is private and confidential, and sharing it would be a violation of their privacy.', additional_kwargs={}, response_metadata={'prompt_feedback': {'block_reason': 0, 'safety_ratings': []}, 'finish_reason': 'STOP', 'safety_ratings': []}, id='run-fd7d470b-e644-42ca-a069-96b138c117da-0', usage_metadata={'input_tokens': 15, 'output_tokens': 38, 'total_tokens': 53, 'input_token_details': {'cache_read': 0}})"
            ]
          },
          "metadata": {},
          "execution_count": 31
        }
      ]
    },
    {
      "cell_type": "code",
      "source": [
        "from langchain_core.messages import HumanMessage, AIMessage\n",
        "\n",
        "# msg = HumanMessage(content=\"Hi\", name=\"Siddique\")\n",
        "\n",
        "messages = [\n",
        "    HumanMessage(content=\"Hi\", name=\"Siddique\"),\n",
        "    AIMessage(content=\"Hello Siddique\", name=\"Gemini\"),\n",
        "    HumanMessage(content=\"Who is the founder of Pakistan\", name=\"Siddique\"),\n",
        "]\n",
        "\n",
        "llm.invoke(messages)\n"
      ],
      "metadata": {
        "id": "Rge-3Tnkg7Vi"
      },
      "execution_count": null,
      "outputs": []
    },
    {
      "cell_type": "code",
      "source": [
        "import os\n",
        "from google.colab import userdata\n",
        "from langchain_community.tools.tavily_search import TavilySearchResults\n",
        "\n",
        "os.environ[\"TAVILY_API_KEY\"] = userdata.get(\"TAVILY_API_KEY\")\n",
        "tool = TavilySearchResults(max_results=2)\n",
        "\n",
        "\n",
        "tool.invoke(\"Who is the current governer of sindh\")"
      ],
      "metadata": {
        "id": "EDTF4eXul-lH"
      },
      "execution_count": null,
      "outputs": []
    }
  ]
}